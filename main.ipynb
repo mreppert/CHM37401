{
 "cells": [
  {
   "cell_type": "code",
   "execution_count": 1,
   "metadata": {},
   "outputs": [
    {
     "data": {
      "application/javascript": [
       "IPython.OutputArea.auto_scroll_threshold = 9999\n"
      ],
      "text/plain": [
       "<IPython.core.display.Javascript object>"
      ]
     },
     "metadata": {},
     "output_type": "display_data"
    }
   ],
   "source": [
    "%%javascript\n",
    "IPython.OutputArea.auto_scroll_threshold = 9999"
   ]
  },
  {
   "cell_type": "markdown",
   "metadata": {},
   "source": [
    "# CHM 37401: Physical Chemistry Laboratory"
   ]
  },
  {
   "cell_type": "code",
   "execution_count": 2,
   "metadata": {},
   "outputs": [
    {
     "data": {
      "text/markdown": [
       "Welcome to Physical Chemistry Laboratory!<br><br> This site hosts Jupyter Notebooks where you can upload, import, and analyze your experimental data and write electronic lab reports for each laboratory period. The schedule below will be updated each week with links to the relevant notebook sessions.\r",
       "## Experiment 1 \r",
       " * <b>Jan 10</b>: <a href=\"git/CHM37401content/src/RandomWalk/random_walk_main.ipynb\"> <span style=\"color:Black;text-decoration:underline\">Group A: Diffusion and the Random Walk Model</span></a> \r",
       "\r",
       " * <b>Jan 17</b>: <a href=\"git/CHM37401content/src/RandomWalk/random_walk_main.ipynb\"> <span style=\"color:Black;text-decoration:underline\">Group B: Diffusion and the Random Walk Model</span></a> \r",
       "\r",
       "\r",
       "## Experiment 2 \r",
       " * <b>Jan 24</b>: <a href=\"git/CHM37401content/src/ElectronDiffraction/electron_diffraction_main.ipynb\"> <span style=\"color:Black;text-decoration:underline\">Group A: Electron Diffraction</span></a> \r",
       "\r",
       " * <b>Jan 31</b>: <a href=\"git/CHM37401content/src/ElectronDiffraction/electron_diffraction_main.ipynb\"> <span style=\"color:Black;text-decoration:underline\">Group B: Electron Diffraction</span></a> \r",
       "\r",
       "\r",
       "## Experiment 3 \r",
       " * <b>Feb 7</b>: <a href=\"git/CHM37401content/src/Raman/raman_part1_main.ipynb\"> <span style=\"color:Black;text-decoration:underline\">Group A: Raman Spectroscopy Part 1</span></a> \r",
       "\r",
       " * <b>Feb 14</b>: <a href=\"git/CHM37401content/src/Raman/raman_part2_main.ipynb\"> <span style=\"color:Black;text-decoration:underline\">Group A: Raman Spectroscopy Part 2</span></a> \r",
       "\r",
       " * <b>Feb 21</b>: <a href=\"git/CHM37401content/src/Raman/raman_part1_main.ipynb\"> <span style=\"color:Black;text-decoration:underline\">Group B: Raman Spectroscopy Part 1</span></a> \r",
       "\r",
       " * <b>Feb 28</b>: <a href=\"git/CHM37401content/src/Raman/raman_part2_main.ipynb\"> <span style=\"color:Black;text-decoration:underline\">Group B: Raman Spectroscopy Part 2</span></a> \r",
       "\r"
      ]
     },
     "metadata": {},
     "output_type": "display_data"
    }
   ],
   "source": [
    "import sys, os\n",
    "\n",
    "out = !{'if [ ! -d git/CHM37401content ]; then cd git; git clone https://github.com/mreppert/CHM37401content.git; else cd git/CHM37401content; git fetch --all; git reset --hard origin/main; fi'}\n",
    "\n",
    "srcdir = 'git/CHM37401content/src/'\n",
    "sys.path.append(srcdir)\n",
    "import schedule\n",
    "\n",
    "schd = schedule.build_schedule_s2022(srcdir)\n",
    "schd.print_events()\n"
   ]
  },
  {
   "cell_type": "code",
   "execution_count": null,
   "metadata": {},
   "outputs": [],
   "source": []
  }
 ],
 "metadata": {
  "kernelspec": {
   "display_name": "Python 3",
   "language": "python",
   "name": "python3"
  },
  "language_info": {
   "codemirror_mode": {
    "name": "ipython",
    "version": 3
   },
   "file_extension": ".py",
   "mimetype": "text/x-python",
   "name": "python",
   "nbconvert_exporter": "python",
   "pygments_lexer": "ipython3",
   "version": "3.7.7"
  }
 },
 "nbformat": 4,
 "nbformat_minor": 2
}
